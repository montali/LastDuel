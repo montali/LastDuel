{
 "cells": [
  {
   "cell_type": "code",
   "execution_count": 3,
   "metadata": {},
   "outputs": [],
   "source": [
    "import catboost\n",
    "import jsonlines"
   ]
  },
  {
   "cell_type": "code",
   "execution_count": 4,
   "metadata": {},
   "outputs": [
    {
     "data": {
      "text/plain": [
       "[{'text': 'mlr.classif.ranger', 'label': 'Ensemble'},\n",
       " {'text': 'mlr.classif.glmnet', 'label': 'NeuralNetwork'},\n",
       " {'text': 'mlr.classif.xgboost', 'label': 'Ensemble'},\n",
       " {'text': 'sklearn.pipeline.Pipeline(columntransformer=sklearn.compose._column_transformer.ColumnTransformer(numeric=sklearn.pipeline.Pipeline(imputer=sklearn.preprocessing.imputation.Imputer,standardscaler=sklearn.preprocessing.data.StandardScaler),nominal=sklearn.pipeline.Pipeline(simpleimputer=sklearn.impute.SimpleImputer,onehotencoder=sklearn.preprocessing._encoders.OneHotEncoder)),variancethreshold=sklearn.feature_selection.variance_threshold.VarianceThreshold,svc=sklearn.svm.classes.SVC)',\n",
       "  'label': 'SVM'},\n",
       " {'text': 'sklearn.pipeline.Pipeline(columntransformer=sklearn.compose._column_transformer.ColumnTransformer(numeric=sklearn.pipeline.Pipeline(imputer=sklearn.preprocessing.imputation.Imputer,standardscaler=sklearn.preprocessing.data.StandardScaler),nominal=sklearn.pipeline.Pipeline(simpleimputer=sklearn.impute.SimpleImputer,onehotencoder=sklearn.preprocessing._encoders.OneHotEncoder)),variancethreshold=sklearn.feature_selection.variance_threshold.VarianceThreshold,decisiontreeclassifier=sklearn.tree.tree.DecisionTreeClassifier)',\n",
       "  'label': 'DecisionTree'},\n",
       " {'text': 'mlr.classif.kknn', 'label': 'kNearestNeighbor'},\n",
       " {'text': 'weka.MultilayerPerceptron', 'label': 'NeuralNetwork'},\n",
       " {'text': 'weka.Logistic', 'label': 'LogisticRegression'},\n",
       " {'text': 'weka.A2DE', 'label': 'NaiveBayes'}]"
      ]
     },
     "execution_count": 4,
     "metadata": {},
     "output_type": "execute_result"
    }
   ],
   "source": [
    "flows = []\n",
    "with jsonlines.open('flow_classification.jsonl') as reader:\n",
    "    for obj in reader:\n",
    "        flows.append(obj)\n",
    "flows"
   ]
  },
  {
   "cell_type": "code",
   "execution_count": 5,
   "metadata": {},
   "outputs": [],
   "source": [
    "import pandas as pd\n",
    "data = pd.DataFrame(flows)"
   ]
  },
  {
   "cell_type": "code",
   "execution_count": 6,
   "metadata": {},
   "outputs": [
    {
     "data": {
      "text/html": [
       "<div>\n",
       "<style scoped>\n",
       "    .dataframe tbody tr th:only-of-type {\n",
       "        vertical-align: middle;\n",
       "    }\n",
       "\n",
       "    .dataframe tbody tr th {\n",
       "        vertical-align: top;\n",
       "    }\n",
       "\n",
       "    .dataframe thead th {\n",
       "        text-align: right;\n",
       "    }\n",
       "</style>\n",
       "<table border=\"1\" class=\"dataframe\">\n",
       "  <thead>\n",
       "    <tr style=\"text-align: right;\">\n",
       "      <th></th>\n",
       "      <th>text</th>\n",
       "      <th>label</th>\n",
       "    </tr>\n",
       "  </thead>\n",
       "  <tbody>\n",
       "    <tr>\n",
       "      <th>0</th>\n",
       "      <td>mlr.classif.ranger</td>\n",
       "      <td>Ensemble</td>\n",
       "    </tr>\n",
       "    <tr>\n",
       "      <th>1</th>\n",
       "      <td>mlr.classif.glmnet</td>\n",
       "      <td>NeuralNetwork</td>\n",
       "    </tr>\n",
       "    <tr>\n",
       "      <th>2</th>\n",
       "      <td>mlr.classif.xgboost</td>\n",
       "      <td>Ensemble</td>\n",
       "    </tr>\n",
       "    <tr>\n",
       "      <th>3</th>\n",
       "      <td>sklearn.pipeline.Pipeline(columntransformer=sk...</td>\n",
       "      <td>SVM</td>\n",
       "    </tr>\n",
       "    <tr>\n",
       "      <th>4</th>\n",
       "      <td>sklearn.pipeline.Pipeline(columntransformer=sk...</td>\n",
       "      <td>DecisionTree</td>\n",
       "    </tr>\n",
       "    <tr>\n",
       "      <th>5</th>\n",
       "      <td>mlr.classif.kknn</td>\n",
       "      <td>kNearestNeighbor</td>\n",
       "    </tr>\n",
       "    <tr>\n",
       "      <th>6</th>\n",
       "      <td>weka.MultilayerPerceptron</td>\n",
       "      <td>NeuralNetwork</td>\n",
       "    </tr>\n",
       "    <tr>\n",
       "      <th>7</th>\n",
       "      <td>weka.Logistic</td>\n",
       "      <td>LogisticRegression</td>\n",
       "    </tr>\n",
       "    <tr>\n",
       "      <th>8</th>\n",
       "      <td>weka.A2DE</td>\n",
       "      <td>NaiveBayes</td>\n",
       "    </tr>\n",
       "  </tbody>\n",
       "</table>\n",
       "</div>"
      ],
      "text/plain": [
       "                                                text               label\n",
       "0                                 mlr.classif.ranger            Ensemble\n",
       "1                                 mlr.classif.glmnet       NeuralNetwork\n",
       "2                                mlr.classif.xgboost            Ensemble\n",
       "3  sklearn.pipeline.Pipeline(columntransformer=sk...                 SVM\n",
       "4  sklearn.pipeline.Pipeline(columntransformer=sk...        DecisionTree\n",
       "5                                   mlr.classif.kknn    kNearestNeighbor\n",
       "6                          weka.MultilayerPerceptron       NeuralNetwork\n",
       "7                                      weka.Logistic  LogisticRegression\n",
       "8                                          weka.A2DE          NaiveBayes"
      ]
     },
     "execution_count": 6,
     "metadata": {},
     "output_type": "execute_result"
    }
   ],
   "source": [
    "data"
   ]
  },
  {
   "cell_type": "code",
   "execution_count": 10,
   "metadata": {},
   "outputs": [
    {
     "ename": "CatBoostError",
     "evalue": "catboost/private/libs/feature_estimator/text_feature_estimators.cpp:89: Dictionary size is 0, check out data or try to decrease occurrence_lower_bound parameter",
     "output_type": "error",
     "traceback": [
      "\u001b[0;31m---------------------------------------------------------------------------\u001b[0m",
      "\u001b[0;31mCatBoostError\u001b[0m                             Traceback (most recent call last)",
      "\u001b[1;32m/Users/simone/UniBO/Tesi/LastDuel/flow_label_catboost.ipynb Cell 5'\u001b[0m in \u001b[0;36m<cell line: 2>\u001b[0;34m()\u001b[0m\n\u001b[1;32m      <a href='vscode-notebook-cell:/Users/simone/UniBO/Tesi/LastDuel/flow_label_catboost.ipynb#ch0000004?line=0'>1</a>\u001b[0m model \u001b[39m=\u001b[39m catboost\u001b[39m.\u001b[39mCatBoostClassifier(text_features\u001b[39m=\u001b[39m[\u001b[39m'\u001b[39m\u001b[39mtext\u001b[39m\u001b[39m'\u001b[39m])\n\u001b[0;32m----> <a href='vscode-notebook-cell:/Users/simone/UniBO/Tesi/LastDuel/flow_label_catboost.ipynb#ch0000004?line=1'>2</a>\u001b[0m model\u001b[39m.\u001b[39;49mfit(data[[\u001b[39m'\u001b[39;49m\u001b[39mtext\u001b[39;49m\u001b[39m'\u001b[39;49m]], data[\u001b[39m'\u001b[39;49m\u001b[39mlabel\u001b[39;49m\u001b[39m'\u001b[39;49m])\n",
      "File \u001b[0;32m/opt/anaconda3/envs/tesi/lib/python3.9/site-packages/catboost/core.py:4768\u001b[0m, in \u001b[0;36mCatBoostClassifier.fit\u001b[0;34m(self, X, y, cat_features, text_features, embedding_features, sample_weight, baseline, use_best_model, eval_set, verbose, logging_level, plot, column_description, verbose_eval, metric_period, silent, early_stopping_rounds, save_snapshot, snapshot_file, snapshot_interval, init_model, callbacks, log_cout, log_cerr)\u001b[0m\n\u001b[1;32m   <a href='file:///opt/anaconda3/envs/tesi/lib/python3.9/site-packages/catboost/core.py?line=4764'>4765</a>\u001b[0m \u001b[39mif\u001b[39;00m \u001b[39m'\u001b[39m\u001b[39mloss_function\u001b[39m\u001b[39m'\u001b[39m \u001b[39min\u001b[39;00m params:\n\u001b[1;32m   <a href='file:///opt/anaconda3/envs/tesi/lib/python3.9/site-packages/catboost/core.py?line=4765'>4766</a>\u001b[0m     CatBoostClassifier\u001b[39m.\u001b[39m_check_is_compatible_loss(params[\u001b[39m'\u001b[39m\u001b[39mloss_function\u001b[39m\u001b[39m'\u001b[39m])\n\u001b[0;32m-> <a href='file:///opt/anaconda3/envs/tesi/lib/python3.9/site-packages/catboost/core.py?line=4767'>4768</a>\u001b[0m \u001b[39mself\u001b[39;49m\u001b[39m.\u001b[39;49m_fit(X, y, cat_features, text_features, embedding_features, \u001b[39mNone\u001b[39;49;00m, sample_weight, \u001b[39mNone\u001b[39;49;00m, \u001b[39mNone\u001b[39;49;00m, \u001b[39mNone\u001b[39;49;00m, \u001b[39mNone\u001b[39;49;00m, baseline, use_best_model,\n\u001b[1;32m   <a href='file:///opt/anaconda3/envs/tesi/lib/python3.9/site-packages/catboost/core.py?line=4768'>4769</a>\u001b[0m           eval_set, verbose, logging_level, plot, column_description, verbose_eval, metric_period,\n\u001b[1;32m   <a href='file:///opt/anaconda3/envs/tesi/lib/python3.9/site-packages/catboost/core.py?line=4769'>4770</a>\u001b[0m           silent, early_stopping_rounds, save_snapshot, snapshot_file, snapshot_interval, init_model, callbacks, log_cout, log_cerr)\n\u001b[1;32m   <a href='file:///opt/anaconda3/envs/tesi/lib/python3.9/site-packages/catboost/core.py?line=4770'>4771</a>\u001b[0m \u001b[39mreturn\u001b[39;00m \u001b[39mself\u001b[39m\n",
      "File \u001b[0;32m/opt/anaconda3/envs/tesi/lib/python3.9/site-packages/catboost/core.py:2089\u001b[0m, in \u001b[0;36mCatBoost._fit\u001b[0;34m(self, X, y, cat_features, text_features, embedding_features, pairs, sample_weight, group_id, group_weight, subgroup_id, pairs_weight, baseline, use_best_model, eval_set, verbose, logging_level, plot, column_description, verbose_eval, metric_period, silent, early_stopping_rounds, save_snapshot, snapshot_file, snapshot_interval, init_model, callbacks, log_cout, log_cerr)\u001b[0m\n\u001b[1;32m   <a href='file:///opt/anaconda3/envs/tesi/lib/python3.9/site-packages/catboost/core.py?line=2084'>2085</a>\u001b[0m allow_clear_pool \u001b[39m=\u001b[39m train_params[\u001b[39m\"\u001b[39m\u001b[39mallow_clear_pool\u001b[39m\u001b[39m\"\u001b[39m]\n\u001b[1;32m   <a href='file:///opt/anaconda3/envs/tesi/lib/python3.9/site-packages/catboost/core.py?line=2086'>2087</a>\u001b[0m \u001b[39mwith\u001b[39;00m log_fixup(log_cout, log_cerr), \\\n\u001b[1;32m   <a href='file:///opt/anaconda3/envs/tesi/lib/python3.9/site-packages/catboost/core.py?line=2087'>2088</a>\u001b[0m     plot_wrapper(plot, [_get_train_dir(\u001b[39mself\u001b[39m\u001b[39m.\u001b[39mget_params())]):\n\u001b[0;32m-> <a href='file:///opt/anaconda3/envs/tesi/lib/python3.9/site-packages/catboost/core.py?line=2088'>2089</a>\u001b[0m     \u001b[39mself\u001b[39;49m\u001b[39m.\u001b[39;49m_train(\n\u001b[1;32m   <a href='file:///opt/anaconda3/envs/tesi/lib/python3.9/site-packages/catboost/core.py?line=2089'>2090</a>\u001b[0m         train_pool,\n\u001b[1;32m   <a href='file:///opt/anaconda3/envs/tesi/lib/python3.9/site-packages/catboost/core.py?line=2090'>2091</a>\u001b[0m         train_params[\u001b[39m\"\u001b[39;49m\u001b[39meval_sets\u001b[39;49m\u001b[39m\"\u001b[39;49m],\n\u001b[1;32m   <a href='file:///opt/anaconda3/envs/tesi/lib/python3.9/site-packages/catboost/core.py?line=2091'>2092</a>\u001b[0m         params,\n\u001b[1;32m   <a href='file:///opt/anaconda3/envs/tesi/lib/python3.9/site-packages/catboost/core.py?line=2092'>2093</a>\u001b[0m         allow_clear_pool,\n\u001b[1;32m   <a href='file:///opt/anaconda3/envs/tesi/lib/python3.9/site-packages/catboost/core.py?line=2093'>2094</a>\u001b[0m         train_params[\u001b[39m\"\u001b[39;49m\u001b[39minit_model\u001b[39;49m\u001b[39m\"\u001b[39;49m]\n\u001b[1;32m   <a href='file:///opt/anaconda3/envs/tesi/lib/python3.9/site-packages/catboost/core.py?line=2094'>2095</a>\u001b[0m     )\n\u001b[1;32m   <a href='file:///opt/anaconda3/envs/tesi/lib/python3.9/site-packages/catboost/core.py?line=2096'>2097</a>\u001b[0m \u001b[39m# Have property feature_importance possibly set\u001b[39;00m\n\u001b[1;32m   <a href='file:///opt/anaconda3/envs/tesi/lib/python3.9/site-packages/catboost/core.py?line=2097'>2098</a>\u001b[0m loss \u001b[39m=\u001b[39m \u001b[39mself\u001b[39m\u001b[39m.\u001b[39m_object\u001b[39m.\u001b[39m_get_loss_function_name()\n",
      "File \u001b[0;32m/opt/anaconda3/envs/tesi/lib/python3.9/site-packages/catboost/core.py:1516\u001b[0m, in \u001b[0;36m_CatBoostBase._train\u001b[0;34m(self, train_pool, test_pool, params, allow_clear_pool, init_model)\u001b[0m\n\u001b[1;32m   <a href='file:///opt/anaconda3/envs/tesi/lib/python3.9/site-packages/catboost/core.py?line=1514'>1515</a>\u001b[0m \u001b[39mdef\u001b[39;00m \u001b[39m_train\u001b[39m(\u001b[39mself\u001b[39m, train_pool, test_pool, params, allow_clear_pool, init_model):\n\u001b[0;32m-> <a href='file:///opt/anaconda3/envs/tesi/lib/python3.9/site-packages/catboost/core.py?line=1515'>1516</a>\u001b[0m     \u001b[39mself\u001b[39;49m\u001b[39m.\u001b[39;49m_object\u001b[39m.\u001b[39;49m_train(train_pool, test_pool, params, allow_clear_pool, init_model\u001b[39m.\u001b[39;49m_object \u001b[39mif\u001b[39;49;00m init_model \u001b[39melse\u001b[39;49;00m \u001b[39mNone\u001b[39;49;00m)\n\u001b[1;32m   <a href='file:///opt/anaconda3/envs/tesi/lib/python3.9/site-packages/catboost/core.py?line=1516'>1517</a>\u001b[0m     \u001b[39mself\u001b[39m\u001b[39m.\u001b[39m_set_trained_model_attributes()\n",
      "File \u001b[0;32m_catboost.pyx:4402\u001b[0m, in \u001b[0;36m_catboost._CatBoost._train\u001b[0;34m()\u001b[0m\n",
      "File \u001b[0;32m_catboost.pyx:4451\u001b[0m, in \u001b[0;36m_catboost._CatBoost._train\u001b[0;34m()\u001b[0m\n",
      "\u001b[0;31mCatBoostError\u001b[0m: catboost/private/libs/feature_estimator/text_feature_estimators.cpp:89: Dictionary size is 0, check out data or try to decrease occurrence_lower_bound parameter"
     ]
    }
   ],
   "source": [
    "model = catboost.CatBoostClassifier(text_features=['text'])\n",
    "model.fit(data[['text']], data['label'])"
   ]
  },
  {
   "cell_type": "code",
   "execution_count": 13,
   "metadata": {},
   "outputs": [
    {
     "data": {
      "text/html": [
       "<div>\n",
       "<style scoped>\n",
       "    .dataframe tbody tr th:only-of-type {\n",
       "        vertical-align: middle;\n",
       "    }\n",
       "\n",
       "    .dataframe tbody tr th {\n",
       "        vertical-align: top;\n",
       "    }\n",
       "\n",
       "    .dataframe thead th {\n",
       "        text-align: right;\n",
       "    }\n",
       "</style>\n",
       "<table border=\"1\" class=\"dataframe\">\n",
       "  <thead>\n",
       "    <tr style=\"text-align: right;\">\n",
       "      <th></th>\n",
       "      <th>text</th>\n",
       "    </tr>\n",
       "  </thead>\n",
       "  <tbody>\n",
       "    <tr>\n",
       "      <th>0</th>\n",
       "      <td>mlr.classif.ranger</td>\n",
       "    </tr>\n",
       "    <tr>\n",
       "      <th>1</th>\n",
       "      <td>mlr.classif.glmnet</td>\n",
       "    </tr>\n",
       "    <tr>\n",
       "      <th>2</th>\n",
       "      <td>mlr.classif.xgboost</td>\n",
       "    </tr>\n",
       "    <tr>\n",
       "      <th>3</th>\n",
       "      <td>sklearn.pipeline.Pipeline(columntransformer=sk...</td>\n",
       "    </tr>\n",
       "    <tr>\n",
       "      <th>4</th>\n",
       "      <td>sklearn.pipeline.Pipeline(columntransformer=sk...</td>\n",
       "    </tr>\n",
       "    <tr>\n",
       "      <th>5</th>\n",
       "      <td>mlr.classif.kknn</td>\n",
       "    </tr>\n",
       "    <tr>\n",
       "      <th>6</th>\n",
       "      <td>weka.MultilayerPerceptron</td>\n",
       "    </tr>\n",
       "    <tr>\n",
       "      <th>7</th>\n",
       "      <td>weka.Logistic</td>\n",
       "    </tr>\n",
       "    <tr>\n",
       "      <th>8</th>\n",
       "      <td>weka.A2DE</td>\n",
       "    </tr>\n",
       "  </tbody>\n",
       "</table>\n",
       "</div>"
      ],
      "text/plain": [
       "                                                text\n",
       "0                                 mlr.classif.ranger\n",
       "1                                 mlr.classif.glmnet\n",
       "2                                mlr.classif.xgboost\n",
       "3  sklearn.pipeline.Pipeline(columntransformer=sk...\n",
       "4  sklearn.pipeline.Pipeline(columntransformer=sk...\n",
       "5                                   mlr.classif.kknn\n",
       "6                          weka.MultilayerPerceptron\n",
       "7                                      weka.Logistic\n",
       "8                                          weka.A2DE"
      ]
     },
     "execution_count": 13,
     "metadata": {},
     "output_type": "execute_result"
    }
   ],
   "source": [
    "data[['text']]"
   ]
  }
 ],
 "metadata": {
  "interpreter": {
   "hash": "503283322573d37c56bdddf48cefc755e7d6e72fbbf6e2a45e8759e4dfccb923"
  },
  "kernelspec": {
   "display_name": "Python 3.9.7 ('tesi')",
   "language": "python",
   "name": "python3"
  },
  "language_info": {
   "codemirror_mode": {
    "name": "ipython",
    "version": 3
   },
   "file_extension": ".py",
   "mimetype": "text/x-python",
   "name": "python",
   "nbconvert_exporter": "python",
   "pygments_lexer": "ipython3",
   "version": "3.9.7"
  },
  "orig_nbformat": 4
 },
 "nbformat": 4,
 "nbformat_minor": 2
}
